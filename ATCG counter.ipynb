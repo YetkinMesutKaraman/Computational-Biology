{
 "cells": [
  {
   "cell_type": "code",
   "execution_count": 7,
   "metadata": {},
   "outputs": [
    {
     "name": "stdout",
     "output_type": "stream",
     "text": [
      "[('length_T', 149), ('length_A', 255), ('length_C', 95), ('length_G', 122)]\n"
     ]
    }
   ],
   "source": [
    "# Input sequence\n",
    "test_sequence = \"ACAACATACAAAGGGCCACAGATACATCAAAAAATGCTCAACATCACTATTTGTCAGGGAAGTACTAATTAAAACCAAAATGAGATGTCCCCTCAAACCTGTTAGAATGGCTATTATCAAAAAGATGAAAGATAGCAACTATCAGAGAGGATGATAGAAAAGGGAACCCTTGCATCATGTACAAATTAAAAATAGAACTATCACATGATCCAAGAATCCTACTTCTGGGTATATAGCCAAAGGAATTGAAATCAATATGTCAAAGGGATATCTGCACTCCTATGTTATTGCAGCATGTTCACAATGGCCAAGATATAGAATCAACCTAACTGTTCATAGACAGATGAATGGATAAATGAAATGTGATATGGAAAATTATTCAGCCTTAAAAACAGTAGGAAATTCTGTCATTTGAGACAACGTGGATGAACCTAGAGGACATTAAGCTAAGTGAAATAAGCTAGACACAGAAAGACAAATATTGCATGATCTCACTTAGAATCTAAAAAATCTGAACTCATAGAAGCAGAGAATAGTATGATGGTTACTAGGGTTATCTGGCAGGGAGAGGATGAGGAAATGGGACATTGTTAATAAAAGGAAAAAAATTCAATTAGTAGG\"\n",
    "\n",
    "def length(string):\n",
    "    length_T = 0;\n",
    "    length_A = 0;\n",
    "    length_C = 0;\n",
    "    length_G = 0;\n",
    "    for i in string:\n",
    "        \n",
    "        if i == \"T\":\n",
    "            length_T = length_T + 1\n",
    "        elif i == \"A\":\n",
    "            length_A = length_A + 1\n",
    "        elif i == \"C\":\n",
    "            length_C = length_C + 1\n",
    "        elif i == \"G\":\n",
    "                length_G = length_G + 1\n",
    "        else:\n",
    "            return print(\"Sequence contains undefined nucleotide!\")\n",
    "            break\n",
    "                    \n",
    "    nucleo_list = [(\"length_T\",length_T), (\"length_A\",length_A), (\"length_C\",length_C), (\"length_G\",length_G)]\n",
    "    nucleo_dict = {\"T\": length_T, \"A\": length_A, \"C\": length_C, \"G\": length_G}\n",
    "    return nucleo_list\n",
    "\n",
    "# Print your result.\n",
    "print(length(test_sequence))\n"
   ]
  },
  {
   "cell_type": "code",
   "execution_count": null,
   "metadata": {
    "collapsed": true
   },
   "outputs": [],
   "source": []
  }
 ],
 "metadata": {
  "kernelspec": {
   "display_name": "Python 3",
   "language": "python",
   "name": "python3"
  },
  "language_info": {
   "codemirror_mode": {
    "name": "ipython",
    "version": 3
   },
   "file_extension": ".py",
   "mimetype": "text/x-python",
   "name": "python",
   "nbconvert_exporter": "python",
   "pygments_lexer": "ipython3",
   "version": "3.6.3"
  }
 },
 "nbformat": 4,
 "nbformat_minor": 2
}
