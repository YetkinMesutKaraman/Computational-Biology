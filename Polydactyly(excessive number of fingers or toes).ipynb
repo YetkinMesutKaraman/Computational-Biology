{
 "cells": [
  {
   "cell_type": "code",
   "execution_count": 3,
   "metadata": {},
   "outputs": [
    {
     "name": "stdout",
     "output_type": "stream",
     "text": [
      "Position, P-value\n",
      "A nucleotide: [81, 0.15729920705028105]\n",
      "C nucleotide: [8, 0.83302889371952138]\n",
      "G nucleotide: [81, 0.15729920705028105]\n",
      "T nucleotide: [3, 1.0]\n"
     ]
    }
   ],
   "source": [
    "## Load in 5 sequences of control cats (18 toes) and 5 sequences of case cats (22 toes)\n",
    "import numpy as np\n",
    "import scipy.stats as stats\n",
    "\n",
    "\n",
    "cases=   ['ACCTTGTAGTGTATTTTATGACCAAATGACTTTTTCCCCCCAGTGGCTAATTTGTCTCAGGCCTGCGTCTTAAAGAGACACGGTAATGAGTAGGAAGTCCAGCGTGGTCTGGA','ACCTTGTACTGTATCTTATGACCAGATGACTTTTTCCACCCAGTGGCTAATTTGTCTCAGGCCTCCGTCTTAAAGAGACACGGTAATGAGTAGGAAGTCCAACGTGGTCTAGA','GCCTTGTACTGTATATTATGACCAAATGACTTTTTCCACCCATTGGCTAATTTGTCTCAGGCCTCCGTCTTAAAGAGACACGGAAATGAGTAGGAAGTCCAGCGTGGTCTAGA','ACCTTGTACTGTATATTATGACCAGATGACTTTTTCCACCCAGTGGCTAATTTGTCTCAGGCCTCCGTCTTAAAGAGACACGGTAATGAGTAGGAAGTCCAGCGTGGTCTAGA','ACCTTGTACTGTATATTATGACCAGATGACTTTTTCCACCCAGTGGCTAATTTGTCTCAGGCCTCCGTCTTAAAGAGACACGGAAATGAGTAGGAAGTCCACCGTGGTCTAGA','ACCTTGTAGTGTATTTTATGACCAAATGACTTTTTCCCCCCAGTGGCTAATTTGTCTCAGGCCTGCGTCTTAAAGAGACACGGTAATGAGTAGGAAGTCCAGCGTGGTCTGGA','ACCTTGTACTGTATCTTATGACCAGATGACTTTTTCCACCCAGTGGCTAATTTGTCTCAGGCCTCCGTCTTAAAGAGACACGGTAATGAGTAGGAAGTCCAACGTGGTCTAGA','GCCTTGTACTGTATATTATGACCAAATGACTTTTTCCACCCATTGGCTAATTTGTCTCAGGCCTCCGTCTTAAAGAGACACGGAAATGAGTAGGAAGTCCAGCGTGGTCTAGA','ACCTTGTACTGTATATTATGACCAGATGACTTTTTCCACCCAGTGGCTAATTTGTCTCAGGCCTCCGTCTTAAAGAGACACGGTAATGAGTAGGAAGTCCAGCGTGGTCTAGA','ACCTTGTACTGTATATTATGACCAGATGACTTTTTCCACCCAGTGGCTAATTTGTCTCAGGCCTCCGTCTTAAAGAGACACGGAAATGAGTAGGAAGTCCACCGTGGTCTAGA']\n",
    "controls=['ACCTTGTACTGTATATTATGACCAAATGACTTTTTCCCCCCAGTGGCTAATTTGTCTCAGGCCTCCGTCTTAAAGAGACACAGAAATGAGTAGGAAGTCCACCGTGGTCTAGA','ACCTTGTACTGTATATTATGACCAGATGACTTTTTCCACCCAGTGGCTAATTTGTCTCAGGCCTCCGTCTTAAAGAGACACAGTAATGAGTAGGAAGTCCAGCGTGGTCTAGA','ACCTTGTACTGTATATTATGACCAGATGACTTTTTCCACCCATTGGCTAATTTGTCTCAGGCCTCCGTCTTAAAGAGACACAGTAATGAGTAGGAGGTCCAGCGTGGTCTAGA','GCCTTGTACTGTATTTTATGACCAAATGACTTTTTCCACCCAGTGGCTAATTTGTCTCAGGCCTGCGTCTTAAAGAGACACAGTAATGAGTAGGAAGTCCAGCGTGGTCTAGA','ACCTTGTACTGTATCTTATGACCAGATGACTTTTTCCACCCAGTGGCTAATTTGTCTCAGGCCTCCGTCTTAAAGAGACACAGAAATGAGTAGGAAGTCCAACGTGGTCTAGA','ACCTTGTACTGTATATTATGACCAAATGACTTTTTCCCCCCAGTGGCTAATTTGTCTCAGGCCTCCGTCTTAAAGAGACACAGAAATGAGTAGGAAGTCCACCGTGGTCTAGA','ACCTTGTACTGTATATTATGACCAGATGACTTTTTCCACCCAGTGGCTAATTTGTCTCAGGCCTCCGTCTTAAAGAGACACAGTAATGAGTAGGAAGTCCAGCGTGGTCTAGA','ACCTTGTACTGTATATTATGACCAGATGACTTTTTCCACCCATTGGCTAATTTGTCTCAGGCCTCCGTCTTAAAGAGACACAGTAATGAGTAGGAGGTCCAGCGTGGTCTAGA','GCCTTGTACTGTATTTTATGACCAAATGACTTTTTCCACCCAGTGGCTAATTTGTCTCAGGCCTGCGTCTTAAAGAGACACAGTAATGAGTAGGAAGTCCAGCGTGGTCTAGA','ACCTTGTACTGTATCTTATGACCAGATGACTTTTTCCACCCAGTGGCTAATTTGTCTCAGGCCTCCGTCTTAAAGAGACACAGAAATGAGTAGGAAGTCCAACGTGGTCTAGA']\n",
    "length = len(cases[1])\n",
    "\n",
    "## Find the frequency of each nucleotide in each position, to find the positions where the sequences are different.\n",
    "\n",
    "def freq_lists(dna_list):\n",
    "    n = len(dna_list[0])\n",
    "    A = [0]*n\n",
    "    T = [0]*n\n",
    "    G = [0]*n\n",
    "    C = [0]*n\n",
    "    for dna in dna_list:\n",
    "        for index, base in enumerate(dna):\n",
    "            if base == 'A':\n",
    "                A[index] += 1\n",
    "            elif base == 'C':\n",
    "                C[index] += 1\n",
    "            elif base == 'G':\n",
    "                G[index] += 1\n",
    "            elif base == 'T':\n",
    "                T[index] += 1\n",
    "    return A, C, G, T\n",
    "freqcases = np.array(freq_lists(cases))/5\n",
    "freqcontrols = np.array(freq_lists(controls))/5\n",
    "\n",
    "## Compare the nucleotide frequencies in the normal cats, and the crazy cats\n",
    "result = []\n",
    "for nuc in range(4): # For each possible marker nucleotide, run a statistical test for each position\n",
    "    test = []\n",
    "    for i in range(length):\n",
    "        n,p = stats.chisquare([freqcases[nuc,i], freqcontrols[nuc,i]])\n",
    "        test.append([n,p])\n",
    "    test = np.array(test)\n",
    "    result.append([np.nanargmin(test[:,1]),np.nanmin(test[:,1])])\n",
    "    \n",
    "## Output the statistical test results\n",
    "print(\"Position, P-value\")\n",
    "print(\"A nucleotide:\", result[0])\n",
    "print(\"C nucleotide:\", result[1])\n",
    "print(\"G nucleotide:\", result[2])\n",
    "print(\"T nucleotide:\", result[3])"
   ]
  },
  {
   "cell_type": "code",
   "execution_count": 4,
   "metadata": {},
   "outputs": [
    {
     "data": {
      "text/plain": [
       "'C:\\\\Users\\\\eerca\\\\AppData\\\\Roaming\\\\SPB_16.6\\\\Python Fundamentals'"
      ]
     },
     "execution_count": 4,
     "metadata": {},
     "output_type": "execute_result"
    }
   ],
   "source": [
    "pwd"
   ]
  },
  {
   "cell_type": "code",
   "execution_count": null,
   "metadata": {
    "collapsed": true
   },
   "outputs": [],
   "source": []
  }
 ],
 "metadata": {
  "kernelspec": {
   "display_name": "Python 3",
   "language": "python",
   "name": "python3"
  },
  "language_info": {
   "codemirror_mode": {
    "name": "ipython",
    "version": 3
   },
   "file_extension": ".py",
   "mimetype": "text/x-python",
   "name": "python",
   "nbconvert_exporter": "python",
   "pygments_lexer": "ipython3",
   "version": "3.6.3"
  }
 },
 "nbformat": 4,
 "nbformat_minor": 2
}
