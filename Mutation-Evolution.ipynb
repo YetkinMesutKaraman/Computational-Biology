{
 "cells": [
  {
   "cell_type": "code",
   "execution_count": 1,
   "metadata": {
    "collapsed": true
   },
   "outputs": [],
   "source": [
    "import math, random"
   ]
  },
  {
   "cell_type": "code",
   "execution_count": 2,
   "metadata": {},
   "outputs": [
    {
     "name": "stdout",
     "output_type": "stream",
     "text": [
      "Human and mouse actual percent identical:  87\n",
      " AGCTCCTAAGCCACTGCCTGCTGGTGACCCTGGCCGCCCACCTCCCCGCCGAGTTCACCC \n",
      " AGCTCCTGAGCCACTGCCTGCTGGTGACCTTGGCTAGCCACCACCCTGCCGATTTCACCC\n",
      "Human and puffer actual percent identical:  67\n",
      " AGCTCCTAAGCCACTGCCTGCTGGTGACCCTGGCCGCCCACCTCCCCGCCGAGTTCACCC \n",
      " AGCTCCTGGCTCAGTGCATGTTGGTGGTCATCGCCACCATGTACCCTGCTGACTTCACCC \n",
      "\n",
      "Human and mouse simulated(forward evolution) percent identical:  39\n",
      " AGCTCCTAAGCCACTGCCTGCTGGTGACCCTGGCCGCCCACCTCCCCGCCGAGTTCACCC \n",
      " AGTAATCGACTTACACTTTTCCTTTAACCTCTGATCAATTCACCCCATCCACCTTCCCAC\n",
      "Human and puffer simulated(forward evolution) percent identical:  22\n",
      " AGCTCCTAAGCCACTGCCTGCTGGTGACCCTGGCCGCCCACCTCCCCGCCGAGTTCACCC \n",
      " ATAAATCACAATTCTCTCATAATATCCTCACAACCTTTTCTCATTTAAACATTTCCCATA\n"
     ]
    }
   ],
   "source": [
    "## Fragments of the human , mouse and puffer fish hemeoglobin gene.\n",
    "human_hb = 'AGCTCCTAAGCCACTGCCTGCTGGTGACCCTGGCCGCCCACCTCCCCGCCGAGTTCACCC'\n",
    "mouse_hb = 'AGCTCCTGAGCCACTGCCTGCTGGTGACCTTGGCTAGCCACCACCCTGCCGATTTCACCC'\n",
    "puffer_hb = 'AGCTCCTGGCTCAGTGCATGTTGGTGGTCATCGCCACCATGTACCCTGCTGACTTCACCC'\n",
    "\n",
    "mouse_evolved = ''\n",
    "puffer_evolved = ''\n",
    "nucleotides = 'ATCG'\n",
    "\n",
    "\n",
    "def percent_identical(s1, s2):\n",
    "    \"\"\"Return the number of mutations between equal-length sequences\"\"\"\n",
    "    \n",
    "    if len(s1) != len(s2):\n",
    "        raise ValueError(\"Undefined for sequences of unequal length\")\n",
    "    difference = sum(ch1 != ch2 for ch1, ch2 in zip (s1, s2))\n",
    "    \n",
    "    return math.ceil(100*(1-difference/len(s1)))\n",
    "\n",
    "## Average mutation rate is 1E-8 per nucleotide per generation\n",
    "mutation_rate = 1e-8\n",
    "\n",
    "## Asuming a generation is a year (an overastimate for mouse and fish,  and underestimate for humans)\n",
    "human_mouse_generations = 16e+7\n",
    "human_puffer_generations = 9e+8\n",
    "\n",
    "## Probability of nucleotide remaining unchanged \n",
    "human_mouse_probability = (1-mutation_rate)**human_mouse_generations\n",
    "human_puffer_probability = (1-mutation_rate)**human_puffer_generations\n",
    "\n",
    "## Evolve the mouse and puffer fish sequences randomly over the generations\n",
    "\n",
    "for i,c in enumerate(human_hb):\n",
    "    mouse_rand = random.uniform(0,1)\n",
    "    puffer_rand = random.uniform(0,1)\n",
    "    \n",
    "    if mouse_rand > human_mouse_probability:\n",
    "        nuc = random.randrange(0,3) # pick an index to obtain nucleotide from nucleotides = 'ATCG'\n",
    "        mouse_evolved = mouse_evolved + nucleotides[nuc] # shorter version: mouse_evolved += nucleotides[nuc]\n",
    "    else:\n",
    "        mouse_evolved = mouse_evolved + mouse_hb[i]\n",
    "        \n",
    "    if puffer_rand > human_puffer_probability:\n",
    "        nuc = random.randrange(0,3)\n",
    "        puffer_evolved = puffer_evolved + nucleotides[nuc]\n",
    "    else:\n",
    "        puffer_evolved = puffer_evolved + puffer_hb[i]\n",
    "\n",
    "print(\"Human and mouse actual percent identical: \", percent_identical(human_hb, mouse_hb))\n",
    "print(\" \"+human_hb,\"\\n\", mouse_hb)\n",
    "print(\"Human and puffer actual percent identical: \", percent_identical(human_hb, puffer_hb))\n",
    "print(\" \"+human_hb,\"\\n\", puffer_hb,\"\\n\")\n",
    "\n",
    "print(\"Human and mouse simulated(forward evolution) percent identical: \", percent_identical(human_hb, mouse_evolved))\n",
    "print(\" \"+human_hb,\"\\n\", mouse_evolved)\n",
    "print(\"Human and puffer simulated(forward evolution) percent identical: \", percent_identical(human_hb, puffer_evolved))\n",
    "print(\" \"+human_hb,\"\\n\", puffer_evolved)\n"
   ]
  },
  {
   "cell_type": "code",
   "execution_count": null,
   "metadata": {
    "collapsed": true
   },
   "outputs": [],
   "source": []
  }
 ],
 "metadata": {
  "kernelspec": {
   "display_name": "Python 3",
   "language": "python",
   "name": "python3"
  },
  "language_info": {
   "codemirror_mode": {
    "name": "ipython",
    "version": 3
   },
   "file_extension": ".py",
   "mimetype": "text/x-python",
   "name": "python",
   "nbconvert_exporter": "python",
   "pygments_lexer": "ipython3",
   "version": "3.6.3"
  }
 },
 "nbformat": 4,
 "nbformat_minor": 2
}
