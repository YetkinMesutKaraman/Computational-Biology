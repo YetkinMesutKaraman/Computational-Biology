{
 "cells": [
  {
   "cell_type": "code",
   "execution_count": 22,
   "metadata": {},
   "outputs": [
    {
     "name": "stdout",
     "output_type": "stream",
     "text": [
      "Seq1:  TCTGCTTTAACTTAT Translated:  SALTY\n",
      "Seq2:  AGTGCGCTGACCTAC Translated:  SALTY\n"
     ]
    }
   ],
   "source": [
    "seq1 = 'TCTGCTTTAACTTAT'\n",
    "seq2 = 'AGTGCGCTGACCTAC'\n",
    "\n",
    "## A function that translates DNA into a protein sequence.\n",
    "def translate(DNA):\n",
    "    ## A python dictionary data structure to translate DNA nucleotides into protein sequences.\n",
    "    dna_to_pro = {'ATG': 'M', 'GCG': 'A', 'TCA': 'S', 'GAA': 'E', 'GGG': 'G', 'GGT': 'G', 'AAA': 'K', 'GAG': 'E', 'AAT': 'N', 'CTA': 'L', \n",
    "                    'CAT': 'H', 'TCG': 'S', 'TAG': 'STOP', 'GTG': 'V', 'TAT': 'Y', 'CCT': 'P', 'ACT': 'T', 'TCC': 's', 'CAG': 'Q', 'CCA': 'P', 'TAA': 'STOP', 'AGA': 'R', 'ACG': 'T', 'CAA': 'Q', 'TGT': 'C', 'GCT': 'A', 'TTC': 'F', 'AGT': 'S', 'ATA': 'I', 'TTA': 'L', 'CCG': 'P', 'ATC': 'I', 'TTT': 'F', 'CGT': 'R', 'TGA': 'STOP', 'GTA': 'V', 'TCT': 'S', 'CAC': 'H', 'GTT': 'V', 'GAT': 'D', 'CGA': 'R', 'GGA': 'G', 'GTC': 'V', 'GGC': 'G', 'TGC': 'C', 'CTG': 'L', 'CTC': 'L', 'CGC': 'R', 'CGG': 'R', 'AAC': 'N', 'GCC': 'A', 'ATT': 'I', 'AGG': 'R', 'GAC': 'D', 'ACC': 'T', 'AGC': 'S', 'TAC': 'Y', 'ACA': 'T', 'AAG': 'K', 'GCA': 'A', 'TTG': 'L', 'CCC': 'P', 'CTT': 'L', 'TGG': 'W'}\n",
    "    protein = []\n",
    "    start = 0\n",
    "    while start+2 < len(DNA):\n",
    "        codon = DNA[start:start+3]\n",
    "        protein.append(dna_to_pro[codon])\n",
    "        start+=3\n",
    "    return ''.join(protein)\n",
    "\n",
    "## Print the translated sequences.\n",
    "print(\"Seq1: \", seq1, \"Translated: \", translate(seq1))\n",
    "print(\"Seq2: \", seq2, \"Translated: \", translate(seq2))"
   ]
  },
  {
   "cell_type": "code",
   "execution_count": 23,
   "metadata": {
    "collapsed": true
   },
   "outputs": [],
   "source": [
    "dna_to_pro = {'ATG': 'M', 'GCG': 'A', 'TCA': 'S', 'GAA': 'E', 'GGG': 'G', 'GGT': 'G', 'AAA': 'K', 'GAG': 'E', 'AAT': 'N', 'CTA': 'L', \n",
    "                    'CAT': 'H', 'TCG': 'S', 'TAG': 'STOP', 'GTG': 'V', 'TAT': 'Y', 'CCT': 'P', 'ACT': 'T', 'TCC': 's', 'CAG': 'Q', 'CCA': 'P', 'TAA': 'STOP', 'AGA': 'R', 'ACG': 'T', 'CAA': 'Q', 'TGT': 'C', 'GCT': 'A', 'TTC': 'F', 'AGT': 'S', 'ATA': 'I', 'TTA': 'L', 'CCG': 'P', 'ATC': 'I', 'TTT': 'F', 'CGT': 'R', 'TGA': 'STOP', 'GTA': 'V', 'TCT': 'S', 'CAC': 'H', 'GTT': 'V', 'GAT': 'D', 'CGA': 'R', 'GGA': 'G', 'GTC': 'V', 'GGC': 'G', 'TGC': 'C', 'CTG': 'L', 'CTC': 'L', 'CGC': 'R', 'CGG': 'R', 'AAC': 'N', 'GCC': 'A', 'ATT': 'I', 'AGG': 'R', 'GAC': 'D', 'ACC': 'T', 'AGC': 'S', 'TAC': 'Y', 'ACA': 'T', 'AAG': 'K', 'GCA': 'A', 'TTG': 'L', 'CCC': 'P', 'CTT': 'L', 'TGG': 'W'}\n",
    "def translate_for(DNA):\n",
    "    protein = []\n",
    "    for idx in range(0,len(DNA),3):\n",
    "        codon = DNA[idx:idx+3]\n",
    "        protein.append(dna_to_pro[codon])\n",
    "    return ''.join(protein)\n",
    "    "
   ]
  },
  {
   "cell_type": "code",
   "execution_count": 24,
   "metadata": {},
   "outputs": [
    {
     "data": {
      "text/plain": [
       "'SALTY'"
      ]
     },
     "execution_count": 24,
     "metadata": {},
     "output_type": "execute_result"
    }
   ],
   "source": [
    "translate_for(seq1)"
   ]
  },
  {
   "cell_type": "code",
   "execution_count": 25,
   "metadata": {},
   "outputs": [
    {
     "data": {
      "text/plain": [
       "'SALTY'"
      ]
     },
     "execution_count": 25,
     "metadata": {},
     "output_type": "execute_result"
    }
   ],
   "source": [
    "translate_for(seq2)"
   ]
  },
  {
   "cell_type": "code",
   "execution_count": 26,
   "metadata": {
    "collapsed": true
   },
   "outputs": [],
   "source": [
    "gdh = 'AUGGAUCAGACAUAUUCUCUGGAGUCAUUCCUCAACCAUGUCCAAAAGCGCGACCCGAAUCAAACCGAGUUCGCGCAAGCCGUUCGUGAAGUAAUGACCACACUCUGGCCUUUUCUUGAACAAAAUCCAAAAUAUCGCCAGAUGUCAUUACUGGAGCGUCUGGUUGAACCGGAGCGCGUGAUCCAGUUUCGCGUGGUAUGGGUUGAUGAUCGCAACCAGAUACAGGUCAACCGUGCAUGGCGUGUGCAGUUCAGCUCUGCCAUCGGCCCGUACAAAGGCGGUAUGCGCUUCCAUCCGUCAGUUAACCUUUCCAUUCUCAAAUUCCUCGGCUUUGAACAAACCUUCAAAAAUGCCCUGACUACUCUGCCGAUGGGCGGUGGUAAAGGCGGCAGCGAUUUCGAUCCGAAAGGAAAAAGCGAAGGUGAAGUGAUGCGUUUUUGCCAGGCGCUGAUGACUGAACUGUAUCGCCACCUGGGCGCGGAUACCGACGUUCCGGCAGGUGAUAUCGGGGUUGGUGGUCGUGAAGUCGGCUUUAUGGCGGGGAUGAUGAAAAAGCUCUCCAACAAUACCGCCUGCGUCUUCACCGGUAAGGGCCUUUCAUUUGGCGGCAGUCUUAUUCGCCCGGAAGCUACCGGCUACGGUCUGGUUUAUUUCACAGAAGCAAUGCUAAAACGCCACGGUAUGGGUUUUGAAGGGAUGCGCGUUUCCGUUUCUGGCUCCGGCAACGUCGCCCAGUACGCUAUCGAAAAAGCGAUGGAAUUUGGUGCUCGUGUGAUCACUGCGUCAGACUCCAGCGGCACUGUAGUUGAUGAAAGCGGAUUCACGAAAGAGAAACUGGCACGUCUUAUCGAAAUCAAAGCCAGCCGCGAUGGUCGAGUGGCAGAUUACGCCAAAGAAUUUGGUCUGGUCUAUCUCGAAGGCCAACAGCCGUGGUCUCUACCGGUUGAUAUCGCCCUGCCUUGCGCCACCCAGAAUGAACUGGAUGUUGACGCCGCGCAUCAGCUUAUCGCUAAUGGCGUUAAAGCCGUCGCCGAAGGGGCAAAUAUGCCGACCACCAUCGAAGCGACUGAACUGUUCCAGCAGGCAGGCGUACUAUUUGCACCGGGUAAAGCGGCUAAUGCUGGUGGCGUCGCUACAUCGGGCCUGGAAAUGGCACAAAACGCUGCGCGCCUGGGCUGGAAAGCCGAGAAAGUUGACGCACGUUUGCAUCACAUCAUGCUGGAUAUCCACCAUGCCUGUGUUGAGCAUGGUGGUGAAGGUGAGCAAACCAACUACGUGCAGGGCGCGAACAUUGCCGGUUUUGUGAAGGUUGCCGAUGCGAUGCUGGCGCAGGGUGUGAUUUAA'"
   ]
  },
  {
   "cell_type": "code",
   "execution_count": 27,
   "metadata": {},
   "outputs": [
    {
     "ename": "KeyError",
     "evalue": "'AUG'",
     "output_type": "error",
     "traceback": [
      "\u001b[1;31m---------------------------------------------------------------------------\u001b[0m",
      "\u001b[1;31mKeyError\u001b[0m                                  Traceback (most recent call last)",
      "\u001b[1;32m<ipython-input-27-f5c3dc2a409f>\u001b[0m in \u001b[0;36m<module>\u001b[1;34m()\u001b[0m\n\u001b[1;32m----> 1\u001b[1;33m \u001b[0mtranslate_for\u001b[0m\u001b[1;33m(\u001b[0m\u001b[0mgdh\u001b[0m\u001b[1;33m)\u001b[0m\u001b[1;33m\u001b[0m\u001b[0m\n\u001b[0m",
      "\u001b[1;32m<ipython-input-23-723e55d62652>\u001b[0m in \u001b[0;36mtranslate_for\u001b[1;34m(DNA)\u001b[0m\n\u001b[0;32m      5\u001b[0m     \u001b[1;32mfor\u001b[0m \u001b[0midx\u001b[0m \u001b[1;32min\u001b[0m \u001b[0mrange\u001b[0m\u001b[1;33m(\u001b[0m\u001b[1;36m0\u001b[0m\u001b[1;33m,\u001b[0m\u001b[0mlen\u001b[0m\u001b[1;33m(\u001b[0m\u001b[0mDNA\u001b[0m\u001b[1;33m)\u001b[0m\u001b[1;33m,\u001b[0m\u001b[1;36m3\u001b[0m\u001b[1;33m)\u001b[0m\u001b[1;33m:\u001b[0m\u001b[1;33m\u001b[0m\u001b[0m\n\u001b[0;32m      6\u001b[0m         \u001b[0mcodon\u001b[0m \u001b[1;33m=\u001b[0m \u001b[0mDNA\u001b[0m\u001b[1;33m[\u001b[0m\u001b[0midx\u001b[0m\u001b[1;33m:\u001b[0m\u001b[0midx\u001b[0m\u001b[1;33m+\u001b[0m\u001b[1;36m3\u001b[0m\u001b[1;33m]\u001b[0m\u001b[1;33m\u001b[0m\u001b[0m\n\u001b[1;32m----> 7\u001b[1;33m         \u001b[0mprotein\u001b[0m\u001b[1;33m.\u001b[0m\u001b[0mappend\u001b[0m\u001b[1;33m(\u001b[0m\u001b[0mdna_to_pro\u001b[0m\u001b[1;33m[\u001b[0m\u001b[0mcodon\u001b[0m\u001b[1;33m]\u001b[0m\u001b[1;33m)\u001b[0m\u001b[1;33m\u001b[0m\u001b[0m\n\u001b[0m\u001b[0;32m      8\u001b[0m     \u001b[1;32mreturn\u001b[0m \u001b[1;34m''\u001b[0m\u001b[1;33m.\u001b[0m\u001b[0mjoin\u001b[0m\u001b[1;33m(\u001b[0m\u001b[0mprotein\u001b[0m\u001b[1;33m)\u001b[0m\u001b[1;33m\u001b[0m\u001b[0m\n\u001b[0;32m      9\u001b[0m \u001b[1;33m\u001b[0m\u001b[0m\n",
      "\u001b[1;31mKeyError\u001b[0m: 'AUG'"
     ]
    }
   ],
   "source": [
    "translate_for(gdh)"
   ]
  },
  {
   "cell_type": "code",
   "execution_count": 28,
   "metadata": {
    "collapsed": true
   },
   "outputs": [],
   "source": [
    "dna_gdh = [\"T\" if base == \"U\" else base for base in gdh]\n",
    "dna_gdh = ''.join(dna_gdh)"
   ]
  },
  {
   "cell_type": "code",
   "execution_count": 29,
   "metadata": {},
   "outputs": [
    {
     "data": {
      "text/plain": [
       "'ATGGATCAGACATATTCTCTGGAGTCATTCCTCAACCATGTCCAAAAGCGCGACCCGAATCAAACCGAGTTCGCGCAAGCCGTTCGTGAAGTAATGACCACACTCTGGCCTTTTCTTGAACAAAATCCAAAATATCGCCAGATGTCATTACTGGAGCGTCTGGTTGAACCGGAGCGCGTGATCCAGTTTCGCGTGGTATGGGTTGATGATCGCAACCAGATACAGGTCAACCGTGCATGGCGTGTGCAGTTCAGCTCTGCCATCGGCCCGTACAAAGGCGGTATGCGCTTCCATCCGTCAGTTAACCTTTCCATTCTCAAATTCCTCGGCTTTGAACAAACCTTCAAAAATGCCCTGACTACTCTGCCGATGGGCGGTGGTAAAGGCGGCAGCGATTTCGATCCGAAAGGAAAAAGCGAAGGTGAAGTGATGCGTTTTTGCCAGGCGCTGATGACTGAACTGTATCGCCACCTGGGCGCGGATACCGACGTTCCGGCAGGTGATATCGGGGTTGGTGGTCGTGAAGTCGGCTTTATGGCGGGGATGATGAAAAAGCTCTCCAACAATACCGCCTGCGTCTTCACCGGTAAGGGCCTTTCATTTGGCGGCAGTCTTATTCGCCCGGAAGCTACCGGCTACGGTCTGGTTTATTTCACAGAAGCAATGCTAAAACGCCACGGTATGGGTTTTGAAGGGATGCGCGTTTCCGTTTCTGGCTCCGGCAACGTCGCCCAGTACGCTATCGAAAAAGCGATGGAATTTGGTGCTCGTGTGATCACTGCGTCAGACTCCAGCGGCACTGTAGTTGATGAAAGCGGATTCACGAAAGAGAAACTGGCACGTCTTATCGAAATCAAAGCCAGCCGCGATGGTCGAGTGGCAGATTACGCCAAAGAATTTGGTCTGGTCTATCTCGAAGGCCAACAGCCGTGGTCTCTACCGGTTGATATCGCCCTGCCTTGCGCCACCCAGAATGAACTGGATGTTGACGCCGCGCATCAGCTTATCGCTAATGGCGTTAAAGCCGTCGCCGAAGGGGCAAATATGCCGACCACCATCGAAGCGACTGAACTGTTCCAGCAGGCAGGCGTACTATTTGCACCGGGTAAAGCGGCTAATGCTGGTGGCGTCGCTACATCGGGCCTGGAAATGGCACAAAACGCTGCGCGCCTGGGCTGGAAAGCCGAGAAAGTTGACGCACGTTTGCATCACATCATGCTGGATATCCACCATGCCTGTGTTGAGCATGGTGGTGAAGGTGAGCAAACCAACTACGTGCAGGGCGCGAACATTGCCGGTTTTGTGAAGGTTGCCGATGCGATGCTGGCGCAGGGTGTGATTTAA'"
      ]
     },
     "execution_count": 29,
     "metadata": {},
     "output_type": "execute_result"
    }
   ],
   "source": [
    "dna_gdh"
   ]
  },
  {
   "cell_type": "code",
   "execution_count": 43,
   "metadata": {
    "collapsed": true
   },
   "outputs": [],
   "source": [
    "def U_T_converter(RNA):\n",
    "    DNA = [\"T\" if base == \"U\" else base for base in RNA]\n",
    "    return ''.join(DNA)"
   ]
  },
  {
   "cell_type": "code",
   "execution_count": 44,
   "metadata": {},
   "outputs": [
    {
     "data": {
      "text/plain": [
       "'ATGGATCAGACATATTCTCTGGAGTCATTCCTCAACCATGTCCAAAAGCGCGACCCGAATCAAACCGAGTTCGCGCAAGCCGTTCGTGAAGTAATGACCACACTCTGGCCTTTTCTTGAACAAAATCCAAAATATCGCCAGATGTCATTACTGGAGCGTCTGGTTGAACCGGAGCGCGTGATCCAGTTTCGCGTGGTATGGGTTGATGATCGCAACCAGATACAGGTCAACCGTGCATGGCGTGTGCAGTTCAGCTCTGCCATCGGCCCGTACAAAGGCGGTATGCGCTTCCATCCGTCAGTTAACCTTTCCATTCTCAAATTCCTCGGCTTTGAACAAACCTTCAAAAATGCCCTGACTACTCTGCCGATGGGCGGTGGTAAAGGCGGCAGCGATTTCGATCCGAAAGGAAAAAGCGAAGGTGAAGTGATGCGTTTTTGCCAGGCGCTGATGACTGAACTGTATCGCCACCTGGGCGCGGATACCGACGTTCCGGCAGGTGATATCGGGGTTGGTGGTCGTGAAGTCGGCTTTATGGCGGGGATGATGAAAAAGCTCTCCAACAATACCGCCTGCGTCTTCACCGGTAAGGGCCTTTCATTTGGCGGCAGTCTTATTCGCCCGGAAGCTACCGGCTACGGTCTGGTTTATTTCACAGAAGCAATGCTAAAACGCCACGGTATGGGTTTTGAAGGGATGCGCGTTTCCGTTTCTGGCTCCGGCAACGTCGCCCAGTACGCTATCGAAAAAGCGATGGAATTTGGTGCTCGTGTGATCACTGCGTCAGACTCCAGCGGCACTGTAGTTGATGAAAGCGGATTCACGAAAGAGAAACTGGCACGTCTTATCGAAATCAAAGCCAGCCGCGATGGTCGAGTGGCAGATTACGCCAAAGAATTTGGTCTGGTCTATCTCGAAGGCCAACAGCCGTGGTCTCTACCGGTTGATATCGCCCTGCCTTGCGCCACCCAGAATGAACTGGATGTTGACGCCGCGCATCAGCTTATCGCTAATGGCGTTAAAGCCGTCGCCGAAGGGGCAAATATGCCGACCACCATCGAAGCGACTGAACTGTTCCAGCAGGCAGGCGTACTATTTGCACCGGGTAAAGCGGCTAATGCTGGTGGCGTCGCTACATCGGGCCTGGAAATGGCACAAAACGCTGCGCGCCTGGGCTGGAAAGCCGAGAAAGTTGACGCACGTTTGCATCACATCATGCTGGATATCCACCATGCCTGTGTTGAGCATGGTGGTGAAGGTGAGCAAACCAACTACGTGCAGGGCGCGAACATTGCCGGTTTTGTGAAGGTTGCCGATGCGATGCTGGCGCAGGGTGTGATTTAA'"
      ]
     },
     "execution_count": 44,
     "metadata": {},
     "output_type": "execute_result"
    }
   ],
   "source": [
    "U_T_converter(gdh)"
   ]
  },
  {
   "cell_type": "code",
   "execution_count": 11,
   "metadata": {},
   "outputs": [
    {
     "data": {
      "text/plain": [
       "'MDQTYSLESFLNHVQKRDPNQTEFAQAVREVMTTLWPFLEQNPKYRQMSLLERLVEPERVIQFRVVWVDDRNQIQVNRAWRVQFSSAIGPYKGGMRFHPSVNLsILKFLGFEQTFKNALTTLPMGGGKGGSDFDPKGKSEGEVMRFCQALMTELYRHLGADTDVPAGDIGVGGREVGFMAGMMKKLsNNTACVFTGKGLSFGGSLIRPEATGYGLVYFTEAMLKRHGMGFEGMRVsVSGsGNVAQYAIEKAMEFGARVITASDsSGTVVDESGFTKEKLARLIEIKASRDGRVADYAKEFGLVYLEGQQPWSLPVDIALPCATQNELDVDAAHQLIANGVKAVAEGANMPTTIEATELFQQAGVLFAPGKAANAGGVATSGLEMAQNAARLGWKAEKVDARLHHIMLDIHHACVEHGGEGEQTNYVQGANIAGFVKVADAMLAQGVISTOP'"
      ]
     },
     "execution_count": 11,
     "metadata": {},
     "output_type": "execute_result"
    }
   ],
   "source": [
    "translate_for(dna_gdh)"
   ]
  },
  {
   "cell_type": "code",
   "execution_count": 46,
   "metadata": {
    "collapsed": true
   },
   "outputs": [],
   "source": [
    "def T_U_converter(DNA):\n",
    "    \"\"\"A function transform DNA sequence into RNA sequence by 'U' substitution\"\"\"\n",
    "    RNA = [\"U\" if base == \"T\" else base for base in DNA]\n",
    "    return ''.join(RNA)"
   ]
  },
  {
   "cell_type": "code",
   "execution_count": 47,
   "metadata": {},
   "outputs": [
    {
     "data": {
      "text/plain": [
       "'AUGGAUCAGACAUAUUCUCUGGAGUCAUUCCUCAACCAUGUCCAAAAGCGCGACCCGAAUCAAACCGAGUUCGCGCAAGCCGUUCGUGAAGUAAUGACCACACUCUGGCCUUUUCUUGAACAAAAUCCAAAAUAUCGCCAGAUGUCAUUACUGGAGCGUCUGGUUGAACCGGAGCGCGUGAUCCAGUUUCGCGUGGUAUGGGUUGAUGAUCGCAACCAGAUACAGGUCAACCGUGCAUGGCGUGUGCAGUUCAGCUCUGCCAUCGGCCCGUACAAAGGCGGUAUGCGCUUCCAUCCGUCAGUUAACCUUUCCAUUCUCAAAUUCCUCGGCUUUGAACAAACCUUCAAAAAUGCCCUGACUACUCUGCCGAUGGGCGGUGGUAAAGGCGGCAGCGAUUUCGAUCCGAAAGGAAAAAGCGAAGGUGAAGUGAUGCGUUUUUGCCAGGCGCUGAUGACUGAACUGUAUCGCCACCUGGGCGCGGAUACCGACGUUCCGGCAGGUGAUAUCGGGGUUGGUGGUCGUGAAGUCGGCUUUAUGGCGGGGAUGAUGAAAAAGCUCUCCAACAAUACCGCCUGCGUCUUCACCGGUAAGGGCCUUUCAUUUGGCGGCAGUCUUAUUCGCCCGGAAGCUACCGGCUACGGUCUGGUUUAUUUCACAGAAGCAAUGCUAAAACGCCACGGUAUGGGUUUUGAAGGGAUGCGCGUUUCCGUUUCUGGCUCCGGCAACGUCGCCCAGUACGCUAUCGAAAAAGCGAUGGAAUUUGGUGCUCGUGUGAUCACUGCGUCAGACUCCAGCGGCACUGUAGUUGAUGAAAGCGGAUUCACGAAAGAGAAACUGGCACGUCUUAUCGAAAUCAAAGCCAGCCGCGAUGGUCGAGUGGCAGAUUACGCCAAAGAAUUUGGUCUGGUCUAUCUCGAAGGCCAACAGCCGUGGUCUCUACCGGUUGAUAUCGCCCUGCCUUGCGCCACCCAGAAUGAACUGGAUGUUGACGCCGCGCAUCAGCUUAUCGCUAAUGGCGUUAAAGCCGUCGCCGAAGGGGCAAAUAUGCCGACCACCAUCGAAGCGACUGAACUGUUCCAGCAGGCAGGCGUACUAUUUGCACCGGGUAAAGCGGCUAAUGCUGGUGGCGUCGCUACAUCGGGCCUGGAAAUGGCACAAAACGCUGCGCGCCUGGGCUGGAAAGCCGAGAAAGUUGACGCACGUUUGCAUCACAUCAUGCUGGAUAUCCACCAUGCCUGUGUUGAGCAUGGUGGUGAAGGUGAGCAAACCAACUACGUGCAGGGCGCGAACAUUGCCGGUUUUGUGAAGGUUGCCGAUGCGAUGCUGGCGCAGGGUGUGAUUUAA'"
      ]
     },
     "execution_count": 47,
     "metadata": {},
     "output_type": "execute_result"
    }
   ],
   "source": [
    "T_U_converter(dna_gdh)"
   ]
  },
  {
   "cell_type": "code",
   "execution_count": 13,
   "metadata": {
    "scrolled": true
   },
   "outputs": [
    {
     "data": {
      "text/plain": [
       "['AUG',\n",
       " 'GCG',\n",
       " 'UCA',\n",
       " 'GAA',\n",
       " 'GGG',\n",
       " 'GGU',\n",
       " 'AAA',\n",
       " 'GAG',\n",
       " 'AAU',\n",
       " 'CUA',\n",
       " 'CAU',\n",
       " 'UCG',\n",
       " 'UAG',\n",
       " 'GUG',\n",
       " 'UAU',\n",
       " 'CCU',\n",
       " 'ACU',\n",
       " 'UCC',\n",
       " 'CAG',\n",
       " 'CCA',\n",
       " 'UAA',\n",
       " 'AGA',\n",
       " 'ACG',\n",
       " 'CAA',\n",
       " 'UGU',\n",
       " 'GCU',\n",
       " 'UUC',\n",
       " 'AGU',\n",
       " 'AUA',\n",
       " 'UUA',\n",
       " 'CCG',\n",
       " 'AUC',\n",
       " 'UUU',\n",
       " 'CGU',\n",
       " 'UGA',\n",
       " 'GUA',\n",
       " 'UCU',\n",
       " 'CAC',\n",
       " 'GUU',\n",
       " 'GAU',\n",
       " 'CGA',\n",
       " 'GGA',\n",
       " 'GUC',\n",
       " 'GGC',\n",
       " 'UGC',\n",
       " 'CUG',\n",
       " 'CUC',\n",
       " 'CGC',\n",
       " 'CGG',\n",
       " 'AAC',\n",
       " 'GCC',\n",
       " 'AUU',\n",
       " 'AGG',\n",
       " 'GAC',\n",
       " 'ACC',\n",
       " 'AGC',\n",
       " 'UAC',\n",
       " 'ACA',\n",
       " 'AAG',\n",
       " 'GCA',\n",
       " 'UUG',\n",
       " 'CCC',\n",
       " 'CUU',\n",
       " 'UGG']"
      ]
     },
     "execution_count": 13,
     "metadata": {},
     "output_type": "execute_result"
    }
   ],
   "source": [
    "rna_to_pro_keys = []\n",
    "rna_codon = [\"A\"]*3\n",
    "for codon in dna_to_pro.keys():\n",
    "    for i,base in enumerate(codon):\n",
    "        if base == \"T\":\n",
    "            rna_codon[i] = \"U\"\n",
    "        else:\n",
    "            rna_codon[i] = base\n",
    "    rna_to_pro_keys.append(''.join(rna_codon))\n",
    "rna_to_pro_keys"
   ]
  },
  {
   "cell_type": "code",
   "execution_count": 16,
   "metadata": {
    "scrolled": true
   },
   "outputs": [
    {
     "data": {
      "text/plain": [
       "{'AAA': 'K',\n",
       " 'AAC': 'N',\n",
       " 'AAG': 'K',\n",
       " 'AAU': 'N',\n",
       " 'ACA': 'T',\n",
       " 'ACC': 'T',\n",
       " 'ACG': 'T',\n",
       " 'ACU': 'T',\n",
       " 'AGA': 'R',\n",
       " 'AGC': 'S',\n",
       " 'AGG': 'R',\n",
       " 'AGU': 'S',\n",
       " 'AUA': 'I',\n",
       " 'AUC': 'I',\n",
       " 'AUG': 'M',\n",
       " 'AUU': 'I',\n",
       " 'CAA': 'Q',\n",
       " 'CAC': 'H',\n",
       " 'CAG': 'Q',\n",
       " 'CAU': 'H',\n",
       " 'CCA': 'P',\n",
       " 'CCC': 'P',\n",
       " 'CCG': 'P',\n",
       " 'CCU': 'P',\n",
       " 'CGA': 'R',\n",
       " 'CGC': 'R',\n",
       " 'CGG': 'R',\n",
       " 'CGU': 'R',\n",
       " 'CUA': 'L',\n",
       " 'CUC': 'L',\n",
       " 'CUG': 'L',\n",
       " 'CUU': 'L',\n",
       " 'GAA': 'E',\n",
       " 'GAC': 'D',\n",
       " 'GAG': 'E',\n",
       " 'GAU': 'D',\n",
       " 'GCA': 'A',\n",
       " 'GCC': 'A',\n",
       " 'GCG': 'A',\n",
       " 'GCU': 'A',\n",
       " 'GGA': 'G',\n",
       " 'GGC': 'G',\n",
       " 'GGG': 'G',\n",
       " 'GGU': 'G',\n",
       " 'GUA': 'V',\n",
       " 'GUC': 'V',\n",
       " 'GUG': 'V',\n",
       " 'GUU': 'V',\n",
       " 'UAA': 'STOP',\n",
       " 'UAC': 'Y',\n",
       " 'UAG': 'STOP',\n",
       " 'UAU': 'Y',\n",
       " 'UCA': 'S',\n",
       " 'UCC': 's',\n",
       " 'UCG': 'S',\n",
       " 'UCU': 'S',\n",
       " 'UGA': 'STOP',\n",
       " 'UGC': 'C',\n",
       " 'UGG': 'W',\n",
       " 'UGU': 'C',\n",
       " 'UUA': 'L',\n",
       " 'UUC': 'F',\n",
       " 'UUG': 'L',\n",
       " 'UUU': 'F'}"
      ]
     },
     "execution_count": 16,
     "metadata": {},
     "output_type": "execute_result"
    }
   ],
   "source": [
    "rna_to_pro = {}\n",
    "for codon, protein_code in zip(rna_to_pro_keys, dna_to_pro.values()):\n",
    "                               rna_to_pro[codon] = protein_code\n",
    "rna_to_pro"
   ]
  },
  {
   "cell_type": "code",
   "execution_count": 17,
   "metadata": {
    "scrolled": true
   },
   "outputs": [
    {
     "data": {
      "text/plain": [
       "{'AAA': 'K',\n",
       " 'AAC': 'N',\n",
       " 'AAG': 'K',\n",
       " 'AAT': 'N',\n",
       " 'ACA': 'T',\n",
       " 'ACC': 'T',\n",
       " 'ACG': 'T',\n",
       " 'ACT': 'T',\n",
       " 'AGA': 'R',\n",
       " 'AGC': 'S',\n",
       " 'AGG': 'R',\n",
       " 'AGT': 'S',\n",
       " 'ATA': 'I',\n",
       " 'ATC': 'I',\n",
       " 'ATG': 'M',\n",
       " 'ATT': 'I',\n",
       " 'CAA': 'Q',\n",
       " 'CAC': 'H',\n",
       " 'CAG': 'Q',\n",
       " 'CAT': 'H',\n",
       " 'CCA': 'P',\n",
       " 'CCC': 'P',\n",
       " 'CCG': 'P',\n",
       " 'CCT': 'P',\n",
       " 'CGA': 'R',\n",
       " 'CGC': 'R',\n",
       " 'CGG': 'R',\n",
       " 'CGT': 'R',\n",
       " 'CTA': 'L',\n",
       " 'CTC': 'L',\n",
       " 'CTG': 'L',\n",
       " 'CTT': 'L',\n",
       " 'GAA': 'E',\n",
       " 'GAC': 'D',\n",
       " 'GAG': 'E',\n",
       " 'GAT': 'D',\n",
       " 'GCA': 'A',\n",
       " 'GCC': 'A',\n",
       " 'GCG': 'A',\n",
       " 'GCT': 'A',\n",
       " 'GGA': 'G',\n",
       " 'GGC': 'G',\n",
       " 'GGG': 'G',\n",
       " 'GGT': 'G',\n",
       " 'GTA': 'V',\n",
       " 'GTC': 'V',\n",
       " 'GTG': 'V',\n",
       " 'GTT': 'V',\n",
       " 'TAA': 'STOP',\n",
       " 'TAC': 'Y',\n",
       " 'TAG': 'STOP',\n",
       " 'TAT': 'Y',\n",
       " 'TCA': 'S',\n",
       " 'TCC': 's',\n",
       " 'TCG': 'S',\n",
       " 'TCT': 'S',\n",
       " 'TGA': 'STOP',\n",
       " 'TGC': 'C',\n",
       " 'TGG': 'W',\n",
       " 'TGT': 'C',\n",
       " 'TTA': 'L',\n",
       " 'TTC': 'F',\n",
       " 'TTG': 'L',\n",
       " 'TTT': 'F'}"
      ]
     },
     "execution_count": 17,
     "metadata": {},
     "output_type": "execute_result"
    }
   ],
   "source": [
    " dna_to_pro"
   ]
  },
  {
   "cell_type": "code",
   "execution_count": 48,
   "metadata": {
    "collapsed": true
   },
   "outputs": [],
   "source": [
    "# Let's turn them into a function: mapping from dna_to_pro to rna_to_pro\n",
    "# We need to swap all 'T's into 'U's\n",
    "def rna_to_pro_dict(dna_to_pro):\n",
    "    #Obtaining the RNA keys from DNA keys\n",
    "    rna_to_pro_keys = []\n",
    "    rna_codon = [\"A\"]*3\n",
    "    for codon in dna_to_pro.keys():\n",
    "        for i,base in enumerate(codon):\n",
    "            if base == \"T\":\n",
    "                rna_codon[i] = \"U\"\n",
    "            else:\n",
    "                rna_codon[i] = base\n",
    "        rna_to_pro_keys.append(''.join(rna_codon))\n",
    "    # Constructing the rna_to_pro dictinary by using zip structure.\n",
    "    \n",
    "    rna_to_pro = {}\n",
    "    for codon, protein_code in zip(rna_to_pro_keys, dna_to_pro.values()):\n",
    "        rna_to_pro[codon] = protein_code\n",
    "    return rna_to_pro\n"
   ]
  },
  {
   "cell_type": "code",
   "execution_count": 49,
   "metadata": {
    "scrolled": true
   },
   "outputs": [
    {
     "data": {
      "text/plain": [
       "{'AAA': 'K',\n",
       " 'AAC': 'N',\n",
       " 'AAG': 'K',\n",
       " 'AAU': 'N',\n",
       " 'ACA': 'T',\n",
       " 'ACC': 'T',\n",
       " 'ACG': 'T',\n",
       " 'ACU': 'T',\n",
       " 'AGA': 'R',\n",
       " 'AGC': 'S',\n",
       " 'AGG': 'R',\n",
       " 'AGU': 'S',\n",
       " 'AUA': 'I',\n",
       " 'AUC': 'I',\n",
       " 'AUG': 'M',\n",
       " 'AUU': 'I',\n",
       " 'CAA': 'Q',\n",
       " 'CAC': 'H',\n",
       " 'CAG': 'Q',\n",
       " 'CAU': 'H',\n",
       " 'CCA': 'P',\n",
       " 'CCC': 'P',\n",
       " 'CCG': 'P',\n",
       " 'CCU': 'P',\n",
       " 'CGA': 'R',\n",
       " 'CGC': 'R',\n",
       " 'CGG': 'R',\n",
       " 'CGU': 'R',\n",
       " 'CUA': 'L',\n",
       " 'CUC': 'L',\n",
       " 'CUG': 'L',\n",
       " 'CUU': 'L',\n",
       " 'GAA': 'E',\n",
       " 'GAC': 'D',\n",
       " 'GAG': 'E',\n",
       " 'GAU': 'D',\n",
       " 'GCA': 'A',\n",
       " 'GCC': 'A',\n",
       " 'GCG': 'A',\n",
       " 'GCU': 'A',\n",
       " 'GGA': 'G',\n",
       " 'GGC': 'G',\n",
       " 'GGG': 'G',\n",
       " 'GGU': 'G',\n",
       " 'GUA': 'V',\n",
       " 'GUC': 'V',\n",
       " 'GUG': 'V',\n",
       " 'GUU': 'V',\n",
       " 'UAA': 'STOP',\n",
       " 'UAC': 'Y',\n",
       " 'UAG': 'STOP',\n",
       " 'UAU': 'Y',\n",
       " 'UCA': 'S',\n",
       " 'UCC': 's',\n",
       " 'UCG': 'S',\n",
       " 'UCU': 'S',\n",
       " 'UGA': 'STOP',\n",
       " 'UGC': 'C',\n",
       " 'UGG': 'W',\n",
       " 'UGU': 'C',\n",
       " 'UUA': 'L',\n",
       " 'UUC': 'F',\n",
       " 'UUG': 'L',\n",
       " 'UUU': 'F'}"
      ]
     },
     "execution_count": 49,
     "metadata": {},
     "output_type": "execute_result"
    }
   ],
   "source": [
    "rna_to_pro_dict(dna_to_pro)"
   ]
  },
  {
   "cell_type": "code",
   "execution_count": 20,
   "metadata": {
    "collapsed": true
   },
   "outputs": [],
   "source": [
    "def translate_brilliant(RNA):\n",
    "    protein = []\n",
    "    ## Find the start codon in the RNA sequence.\n",
    "    start = RNA.find('AUG')\n",
    "    ## Proceed forwards in the sequence until the end.\n",
    "    while start+2 < len(RNA):\n",
    "        ## Read in the next codon.\n",
    "        codon = RNA[start:start+3]\n",
    "        ## Break if the codon is a stop codon.\n",
    "        if rna_to_pro[codon]==\"STOP\": \n",
    "            print(\"STOPPED!\");\n",
    "            break\n",
    "        ## Add the translated codon to the end of the protein string.\n",
    "        protein.append(rna_to_pro[codon])\n",
    "        start+=3\n",
    "    return ''.join(protein)"
   ]
  },
  {
   "cell_type": "code",
   "execution_count": 21,
   "metadata": {},
   "outputs": [
    {
     "name": "stdout",
     "output_type": "stream",
     "text": [
      "STOPPED!\n"
     ]
    },
    {
     "data": {
      "text/plain": [
       "'MDQTYSLESFLNHVQKRDPNQTEFAQAVREVMTTLWPFLEQNPKYRQMSLLERLVEPERVIQFRVVWVDDRNQIQVNRAWRVQFSSAIGPYKGGMRFHPSVNLsILKFLGFEQTFKNALTTLPMGGGKGGSDFDPKGKSEGEVMRFCQALMTELYRHLGADTDVPAGDIGVGGREVGFMAGMMKKLsNNTACVFTGKGLSFGGSLIRPEATGYGLVYFTEAMLKRHGMGFEGMRVsVSGsGNVAQYAIEKAMEFGARVITASDsSGTVVDESGFTKEKLARLIEIKASRDGRVADYAKEFGLVYLEGQQPWSLPVDIALPCATQNELDVDAAHQLIANGVKAVAEGANMPTTIEATELFQQAGVLFAPGKAANAGGVATSGLEMAQNAARLGWKAEKVDARLHHIMLDIHHACVEHGGEGEQTNYVQGANIAGFVKVADAMLAQGVI'"
      ]
     },
     "execution_count": 21,
     "metadata": {},
     "output_type": "execute_result"
    }
   ],
   "source": [
    "translate_brilliant(gdh)"
   ]
  },
  {
   "cell_type": "code",
   "execution_count": 37,
   "metadata": {
    "collapsed": true
   },
   "outputs": [],
   "source": [
    "def translate_rna_for(RNA):\n",
    "    protein = []\n",
    "    start = RNA.index(\"AUG\") \n",
    "    for idx in range(start,len(RNA),3):\n",
    "        codon = RNA[idx:idx+3]\n",
    "        protein.append(rna_to_pro[codon])\n",
    "    return ''.join(protein)\n",
    "    "
   ]
  },
  {
   "cell_type": "code",
   "execution_count": 38,
   "metadata": {},
   "outputs": [
    {
     "data": {
      "text/plain": [
       "'MDQTYSLESFLNHVQKRDPNQTEFAQAVREVMTTLWPFLEQNPKYRQMSLLERLVEPERVIQFRVVWVDDRNQIQVNRAWRVQFSSAIGPYKGGMRFHPSVNLsILKFLGFEQTFKNALTTLPMGGGKGGSDFDPKGKSEGEVMRFCQALMTELYRHLGADTDVPAGDIGVGGREVGFMAGMMKKLsNNTACVFTGKGLSFGGSLIRPEATGYGLVYFTEAMLKRHGMGFEGMRVsVSGsGNVAQYAIEKAMEFGARVITASDsSGTVVDESGFTKEKLARLIEIKASRDGRVADYAKEFGLVYLEGQQPWSLPVDIALPCATQNELDVDAAHQLIANGVKAVAEGANMPTTIEATELFQQAGVLFAPGKAANAGGVATSGLEMAQNAARLGWKAEKVDARLHHIMLDIHHACVEHGGEGEQTNYVQGANIAGFVKVADAMLAQGVISTOP'"
      ]
     },
     "execution_count": 38,
     "metadata": {},
     "output_type": "execute_result"
    }
   ],
   "source": [
    "translate_rna_for(gdh)"
   ]
  },
  {
   "cell_type": "code",
   "execution_count": 39,
   "metadata": {},
   "outputs": [
    {
     "data": {
      "text/plain": [
       "0"
      ]
     },
     "execution_count": 39,
     "metadata": {},
     "output_type": "execute_result"
    }
   ],
   "source": [
    "gdh.index(\"AUG\")"
   ]
  },
  {
   "cell_type": "code",
   "execution_count": 40,
   "metadata": {},
   "outputs": [
    {
     "data": {
      "text/plain": [
       "21"
      ]
     },
     "execution_count": 40,
     "metadata": {},
     "output_type": "execute_result"
    }
   ],
   "source": [
    "gdh.index(\"GAG\")"
   ]
  },
  {
   "cell_type": "code",
   "execution_count": null,
   "metadata": {
    "collapsed": true
   },
   "outputs": [],
   "source": []
  }
 ],
 "metadata": {
  "kernelspec": {
   "display_name": "Python 3",
   "language": "python",
   "name": "python3"
  },
  "language_info": {
   "codemirror_mode": {
    "name": "ipython",
    "version": 3
   },
   "file_extension": ".py",
   "mimetype": "text/x-python",
   "name": "python",
   "nbconvert_exporter": "python",
   "pygments_lexer": "ipython3",
   "version": "3.6.3"
  }
 },
 "nbformat": 4,
 "nbformat_minor": 2
}
